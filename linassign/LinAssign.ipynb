{
 "cells": [
  {
   "cell_type": "markdown",
   "id": "ee3ef1c3",
   "metadata": {},
   "source": [
    "# Linear Assignment\n",
    "\n",
    "This section replicates the example from chapter 4 of the book\n",
    "[Opt Art by Robert Bosch](https://www.amazon.com/Opt-Art-Mathematical-Optimization-Visual/dp/0691164061)."
   ]
  },
  {
   "cell_type": "markdown",
   "id": "7592a77f",
   "metadata": {},
   "source": [
    "# Problem description\n",
    "\n",
    "In this problem we need to assign professors to courses in a one-on-one fashion.\n",
    "\n",
    "- There are 5 professors.\n",
    "- There are 5 courses.\n",
    "- Professors will complain when they need to give a course, but the amount of complaining differs. This is the cost table.\n",
    "- Find an assignment with minimal cost.\n",
    "\n",
    "This class of problems is known as _linear assignment_."
   ]
  },
  {
   "cell_type": "markdown",
   "id": "b2eb3e3c",
   "metadata": {},
   "source": [
    "# Problem formulation\n",
    "\n",
    "We will use [PuLP](https://pypi.org/project/PuLP/) (a linear programming modeler written in python)."
   ]
  },
  {
   "cell_type": "code",
   "execution_count": 1,
   "id": "bc7dd787",
   "metadata": {},
   "outputs": [],
   "source": [
    "import pulp"
   ]
  },
  {
   "cell_type": "markdown",
   "id": "489e95e8",
   "metadata": {},
   "source": [
    "We have five professors and five courses, leading to 25 combinations."
   ]
  },
  {
   "cell_type": "code",
   "execution_count": 2,
   "id": "174dc768",
   "metadata": {},
   "outputs": [
    {
     "data": {
      "text/plain": [
       "[('profA', 'course1'),\n",
       " ('profA', 'course2'),\n",
       " ('profA', 'course3'),\n",
       " ('profA', 'course4'),\n",
       " ('profA', 'course5'),\n",
       " ('profB', 'course1'),\n",
       " ('profB', 'course2'),\n",
       " ('profB', 'course3'),\n",
       " ('profB', 'course4'),\n",
       " ('profB', 'course5'),\n",
       " ('profC', 'course1'),\n",
       " ('profC', 'course2'),\n",
       " ('profC', 'course3'),\n",
       " ('profC', 'course4'),\n",
       " ('profC', 'course5'),\n",
       " ('profD', 'course1'),\n",
       " ('profD', 'course2'),\n",
       " ('profD', 'course3'),\n",
       " ('profD', 'course4'),\n",
       " ('profD', 'course5'),\n",
       " ('profE', 'course1'),\n",
       " ('profE', 'course2'),\n",
       " ('profE', 'course3'),\n",
       " ('profE', 'course4'),\n",
       " ('profE', 'course5')]"
      ]
     },
     "execution_count": 2,
     "metadata": {},
     "output_type": "execute_result"
    }
   ],
   "source": [
    "profs = [ 'profA', 'profB', 'profC', 'profD', 'profE' ]\n",
    "courses = [ 'course1', 'course2', 'course3', 'course4', 'course5' ]\n",
    "combos = [ (p,c) for p in profs for c in courses ]\n",
    "combos"
   ]
  },
  {
   "cell_type": "markdown",
   "id": "3bb0b26a",
   "metadata": {},
   "source": [
    "We also have a table of costs."
   ]
  },
  {
   "cell_type": "code",
   "execution_count": 3,
   "id": "f7d9727b",
   "metadata": {},
   "outputs": [],
   "source": [
    "costs_matrix = [ \n",
    "    2.5, 3.5, 4.0, 4.0, 3.5,\n",
    "    2.5, 1.5, 2.5, 1.5, 4.0,\n",
    "    4.0, 3.0, 3.5, 2.0, 3.5,\n",
    "    3.5, 4.0, 3.5, 2.5, 4.0,\n",
    "    4.0, 3.5, 3.5, 4.0, 1.5 \n",
    "]"
   ]
  },
  {
   "cell_type": "markdown",
   "id": "5cb99c55",
   "metadata": {},
   "source": [
    "It should be interpreted as follows."
   ]
  },
  {
   "cell_type": "code",
   "execution_count": 4,
   "id": "b52568ab",
   "metadata": {},
   "outputs": [
    {
     "data": {
      "text/plain": [
       "{('profA', 'course1'): 2.5,\n",
       " ('profA', 'course2'): 3.5,\n",
       " ('profA', 'course3'): 4.0,\n",
       " ('profA', 'course4'): 4.0,\n",
       " ('profA', 'course5'): 3.5,\n",
       " ('profB', 'course1'): 2.5,\n",
       " ('profB', 'course2'): 1.5,\n",
       " ('profB', 'course3'): 2.5,\n",
       " ('profB', 'course4'): 1.5,\n",
       " ('profB', 'course5'): 4.0,\n",
       " ('profC', 'course1'): 4.0,\n",
       " ('profC', 'course2'): 3.0,\n",
       " ('profC', 'course3'): 3.5,\n",
       " ('profC', 'course4'): 2.0,\n",
       " ('profC', 'course5'): 3.5,\n",
       " ('profD', 'course1'): 3.5,\n",
       " ('profD', 'course2'): 4.0,\n",
       " ('profD', 'course3'): 3.5,\n",
       " ('profD', 'course4'): 2.5,\n",
       " ('profD', 'course5'): 4.0,\n",
       " ('profE', 'course1'): 4.0,\n",
       " ('profE', 'course2'): 3.5,\n",
       " ('profE', 'course3'): 3.5,\n",
       " ('profE', 'course4'): 4.0,\n",
       " ('profE', 'course5'): 1.5}"
      ]
     },
     "execution_count": 4,
     "metadata": {},
     "output_type": "execute_result"
    }
   ],
   "source": [
    "costs = dict( zip(combos,costs_matrix) )\n",
    "costs"
   ]
  },
  {
   "cell_type": "markdown",
   "id": "d5f7826c",
   "metadata": {},
   "source": [
    "We have now all ingredients to formalize the problem.\n",
    "\n",
    "First, we create the problem _object_. We want to minimize cost."
   ]
  },
  {
   "cell_type": "code",
   "execution_count": 5,
   "id": "a01ed543",
   "metadata": {},
   "outputs": [],
   "source": [
    "prob = pulp.LpProblem(\"teaching\", pulp.LpMinimize)"
   ]
  },
  {
   "cell_type": "markdown",
   "id": "ed39a326",
   "metadata": {},
   "source": [
    "Next, we create the variables. They indicate which professor is assigned to which course. All variables must be 0 or 1. \n",
    "Quoting Robert Bosch: \n",
    "\n",
    "> \"Researchers have proved that in case of the linear assignment problem, every vertex of the continuous relaxation feasible region is integer valued.\""
   ]
  },
  {
   "cell_type": "code",
   "execution_count": 6,
   "id": "59b71154",
   "metadata": {},
   "outputs": [],
   "source": [
    "assign = pulp.LpVariable.dicts( \"assign\", combos, lowBound=0, upBound=1 ) # We can also use: cat=pulp.LpBinary"
   ]
  },
  {
   "cell_type": "markdown",
   "id": "f0b0b096",
   "metadata": {},
   "source": [
    "Thirdly, the objective function is the cost associated with the assignment."
   ]
  },
  {
   "cell_type": "code",
   "execution_count": 7,
   "id": "649d9e28",
   "metadata": {},
   "outputs": [],
   "source": [
    "prob += pulp.lpSum( [assign[(p,c)]*costs[(p,c)] for p in profs for c in courses] ), \"lowest cost\""
   ]
  },
  {
   "cell_type": "markdown",
   "id": "a6124240",
   "metadata": {},
   "source": [
    "Each professor can only be assigned to one course."
   ]
  },
  {
   "cell_type": "code",
   "execution_count": 8,
   "id": "edd112ec",
   "metadata": {},
   "outputs": [],
   "source": [
    "for p in profs:\n",
    "    prob += pulp.lpSum( [assign[(p,c)] for c in courses] ) == 1 , f\"{p} once\""
   ]
  },
  {
   "cell_type": "markdown",
   "id": "0ee3d34d",
   "metadata": {},
   "source": [
    "Finally, each course can only be assigned to one professor."
   ]
  },
  {
   "cell_type": "code",
   "execution_count": 9,
   "id": "d1ef682f",
   "metadata": {},
   "outputs": [],
   "source": [
    "for c in courses:\n",
    "    prob += pulp.lpSum( [assign[(p,c)] for p in profs] ) == 1 , f\"{c} once\""
   ]
  },
  {
   "cell_type": "markdown",
   "id": "ed0e3285",
   "metadata": {},
   "source": [
    "And we are done. Let's save and view the problem definition."
   ]
  },
  {
   "cell_type": "code",
   "execution_count": 10,
   "id": "00d50681",
   "metadata": {},
   "outputs": [
    {
     "name": "stdout",
     "output_type": "stream",
     "text": [
      "\\* teaching *\\\n",
      "Minimize\n",
      "lowest_cost: 2.5 assign_('profA',_'course1') + 3.5 assign_('profA',_'course2')\n",
      " + 4 assign_('profA',_'course3') + 4 assign_('profA',_'course4')\n",
      " + 3.5 assign_('profA',_'course5') + 2.5 assign_('profB',_'course1')\n",
      " + 1.5 assign_('profB',_'course2') + 2.5 assign_('profB',_'course3')\n",
      " + 1.5 assign_('profB',_'course4') + 4 assign_('profB',_'course5')\n",
      " + 4 assign_('profC',_'course1') + 3 assign_('profC',_'course2')\n",
      " + 3.5 assign_('profC',_'course3') + 2 assign_('profC',_'course4')\n",
      " + 3.5 assign_('profC',_'course5') + 3.5 assign_('profD',_'course1')\n",
      " + 4 assign_('profD',_'course2') + 3.5 assign_('profD',_'course3')\n",
      " + 2.5 assign_('profD',_'course4') + 4 assign_('profD',_'course5')\n",
      " + 4 assign_('profE',_'course1') + 3.5 assign_('profE',_'course2')\n",
      " + 3.5 assign_('profE',_'course3') + 4 assign_('profE',_'course4')\n",
      " + 1.5 assign_('profE',_'course5')\n",
      "Subject To\n",
      "course1_once: assign_('profA',_'course1') + assign_('profB',_'course1')\n",
      " + assign_('profC',_'course1') + assign_('profD',_'course1')\n",
      " + assign_('profE',_'course1') = 1\n",
      "course2_once: assign_('profA',_'course2') + assign_('profB',_'course2')\n",
      " + assign_('profC',_'course2') + assign_('profD',_'course2')\n",
      " + assign_('profE',_'course2') = 1\n",
      "course3_once: assign_('profA',_'course3') + assign_('profB',_'course3')\n",
      " + assign_('profC',_'course3') + assign_('profD',_'course3')\n",
      " + assign_('profE',_'course3') = 1\n",
      "course4_once: assign_('profA',_'course4') + assign_('profB',_'course4')\n",
      " + assign_('profC',_'course4') + assign_('profD',_'course4')\n",
      " + assign_('profE',_'course4') = 1\n",
      "course5_once: assign_('profA',_'course5') + assign_('profB',_'course5')\n",
      " + assign_('profC',_'course5') + assign_('profD',_'course5')\n",
      " + assign_('profE',_'course5') = 1\n",
      "profA_once: assign_('profA',_'course1') + assign_('profA',_'course2')\n",
      " + assign_('profA',_'course3') + assign_('profA',_'course4')\n",
      " + assign_('profA',_'course5') = 1\n",
      "profB_once: assign_('profB',_'course1') + assign_('profB',_'course2')\n",
      " + assign_('profB',_'course3') + assign_('profB',_'course4')\n",
      " + assign_('profB',_'course5') = 1\n",
      "profC_once: assign_('profC',_'course1') + assign_('profC',_'course2')\n",
      " + assign_('profC',_'course3') + assign_('profC',_'course4')\n",
      " + assign_('profC',_'course5') = 1\n",
      "profD_once: assign_('profD',_'course1') + assign_('profD',_'course2')\n",
      " + assign_('profD',_'course3') + assign_('profD',_'course4')\n",
      " + assign_('profD',_'course5') = 1\n",
      "profE_once: assign_('profE',_'course1') + assign_('profE',_'course2')\n",
      " + assign_('profE',_'course3') + assign_('profE',_'course4')\n",
      " + assign_('profE',_'course5') = 1\n",
      "Bounds\n",
      " assign_('profA',_'course1') <= 1\n",
      " assign_('profA',_'course2') <= 1\n",
      " assign_('profA',_'course3') <= 1\n",
      " assign_('profA',_'course4') <= 1\n",
      " assign_('profA',_'course5') <= 1\n",
      " assign_('profB',_'course1') <= 1\n",
      " assign_('profB',_'course2') <= 1\n",
      " assign_('profB',_'course3') <= 1\n",
      " assign_('profB',_'course4') <= 1\n",
      " assign_('profB',_'course5') <= 1\n",
      " assign_('profC',_'course1') <= 1\n",
      " assign_('profC',_'course2') <= 1\n",
      " assign_('profC',_'course3') <= 1\n",
      " assign_('profC',_'course4') <= 1\n",
      " assign_('profC',_'course5') <= 1\n",
      " assign_('profD',_'course1') <= 1\n",
      " assign_('profD',_'course2') <= 1\n",
      " assign_('profD',_'course3') <= 1\n",
      " assign_('profD',_'course4') <= 1\n",
      " assign_('profD',_'course5') <= 1\n",
      " assign_('profE',_'course1') <= 1\n",
      " assign_('profE',_'course2') <= 1\n",
      " assign_('profE',_'course3') <= 1\n",
      " assign_('profE',_'course4') <= 1\n",
      " assign_('profE',_'course5') <= 1\n",
      "End\n"
     ]
    }
   ],
   "source": [
    "prob.writeLP(\"LinAssign.lp\")\n",
    "!type LinAssign.lp"
   ]
  },
  {
   "cell_type": "markdown",
   "id": "75d7d17e",
   "metadata": {},
   "source": [
    "## Solving"
   ]
  },
  {
   "cell_type": "markdown",
   "id": "ed4b3005",
   "metadata": {},
   "source": [
    "At this moment the `prop` problem is not yet solved."
   ]
  },
  {
   "cell_type": "code",
   "execution_count": 11,
   "id": "35a4574e",
   "metadata": {},
   "outputs": [
    {
     "data": {
      "text/plain": [
       "'Not Solved'"
      ]
     },
     "execution_count": 11,
     "metadata": {},
     "output_type": "execute_result"
    }
   ],
   "source": [
    "pulp.LpStatus[prob.status]"
   ]
  },
  {
   "cell_type": "markdown",
   "id": "dbb9b022",
   "metadata": {},
   "source": [
    "We solve it, and check the status for success."
   ]
  },
  {
   "cell_type": "code",
   "execution_count": 12,
   "id": "30d13cdf",
   "metadata": {},
   "outputs": [
    {
     "data": {
      "text/plain": [
       "'Optimal'"
      ]
     },
     "execution_count": 12,
     "metadata": {},
     "output_type": "execute_result"
    }
   ],
   "source": [
    "prob.solve()\n",
    "pulp.LpStatus[prob.status]"
   ]
  },
  {
   "cell_type": "markdown",
   "id": "320663ce",
   "metadata": {},
   "source": [
    "The cost of the optimal assignment is now also computable. Note that `pulp.value(E)` computes the value of expression `E`. The `prob.objective` is indeed an expression computing the cost."
   ]
  },
  {
   "cell_type": "code",
   "execution_count": 13,
   "id": "712ae5cf",
   "metadata": {},
   "outputs": [
    {
     "name": "stdout",
     "output_type": "stream",
     "text": [
      "2.5*assign_('profA',_'course1') + 3.5*assign_('profA',_'course2') + 4.0*assign_('profA',_'course3') + 4.0*assign_('profA',_'course4') + 3.5*assign_('profA',_'course5') + 2.5*assign_('profB',_'course1') + 1.5*assign_('profB',_'course2') + 2.5*assign_('profB',_'course3') + 1.5*assign_('profB',_'course4') + 4.0*assign_('profB',_'course5') + 4.0*assign_('profC',_'course1') + 3.0*assign_('profC',_'course2') + 3.5*assign_('profC',_'course3') + 2.0*assign_('profC',_'course4') + 3.5*assign_('profC',_'course5') + 3.5*assign_('profD',_'course1') + 4.0*assign_('profD',_'course2') + 3.5*assign_('profD',_'course3') + 2.5*assign_('profD',_'course4') + 4.0*assign_('profD',_'course5') + 4.0*assign_('profE',_'course1') + 3.5*assign_('profE',_'course2') + 3.5*assign_('profE',_'course3') + 4.0*assign_('profE',_'course4') + 1.5*assign_('profE',_'course5')\n"
     ]
    }
   ],
   "source": [
    "print(prob.objective)"
   ]
  },
  {
   "cell_type": "code",
   "execution_count": 14,
   "id": "06beca6a",
   "metadata": {},
   "outputs": [
    {
     "data": {
      "text/plain": [
       "11.0"
      ]
     },
     "execution_count": 14,
     "metadata": {},
     "output_type": "execute_result"
    }
   ],
   "source": [
    "pulp.value(prob.objective)"
   ]
  },
  {
   "cell_type": "markdown",
   "id": "0860c62f",
   "metadata": {},
   "source": [
    "I wanted to print the assignment, but I was a bit puzzled by the data structures. The `assign` object is a dictionary. Its _keys_ are the ones passed when creating `assign`, in our case that is `combos`. In `combos` we have two-tuples of strings like `('profA', 'course1')`. Indeed those are the keys of `assign`:"
   ]
  },
  {
   "cell_type": "code",
   "execution_count": 15,
   "id": "a3bc396e",
   "metadata": {},
   "outputs": [
    {
     "name": "stdout",
     "output_type": "stream",
     "text": [
      "('profA', 'course1')\n",
      "('profA', 'course2')\n",
      "('profA', 'course3')\n",
      "('profA', 'course4')\n",
      "('profA', 'course5')\n",
      "('profB', 'course1')\n",
      "('profB', 'course2')\n",
      "('profB', 'course3')\n",
      "('profB', 'course4')\n",
      "('profB', 'course5')\n",
      "('profC', 'course1')\n",
      "('profC', 'course2')\n",
      "('profC', 'course3')\n",
      "('profC', 'course4')\n",
      "('profC', 'course5')\n",
      "('profD', 'course1')\n",
      "('profD', 'course2')\n",
      "('profD', 'course3')\n",
      "('profD', 'course4')\n",
      "('profD', 'course5')\n",
      "('profE', 'course1')\n",
      "('profE', 'course2')\n",
      "('profE', 'course3')\n",
      "('profE', 'course4')\n",
      "('profE', 'course5')\n"
     ]
    }
   ],
   "source": [
    "for k in assign.keys() :\n",
    "    print(k)"
   ]
  },
  {
   "cell_type": "markdown",
   "id": "ec88de54",
   "metadata": {},
   "source": [
    "One of the keys of `assign` is `('profA', 'course1')` and we can extract the parts with `key[0]` (giving `'profA'`) and `key[1]` (giving `'course1'`). "
   ]
  },
  {
   "cell_type": "markdown",
   "id": "b4d9eb24",
   "metadata": {},
   "source": [
    "When we have a key we can use that as in index into `assign`, and we get an LP variable, more precisely an object of type `pulp.pulp.LpVariable`. "
   ]
  },
  {
   "cell_type": "code",
   "execution_count": 16,
   "id": "52bdfe5c",
   "metadata": {},
   "outputs": [
    {
     "data": {
      "text/plain": [
       "pulp.pulp.LpVariable"
      ]
     },
     "execution_count": 16,
     "metadata": {},
     "output_type": "execute_result"
    }
   ],
   "source": [
    "k = ('profA', 'course1')\n",
    "v = assign[k]\n",
    "type(v)"
   ]
  },
  {
   "cell_type": "markdown",
   "id": "da6a538c",
   "metadata": {},
   "source": [
    "An LP variable is an object from the pulp package. It has 83 methods. "
   ]
  },
  {
   "cell_type": "code",
   "execution_count": 17,
   "id": "9d282328",
   "metadata": {},
   "outputs": [
    {
     "data": {
      "text/plain": [
       "83"
      ]
     },
     "execution_count": 17,
     "metadata": {},
     "output_type": "execute_result"
    }
   ],
   "source": [
    "len( dir( v ) )"
   ]
  },
  {
   "cell_type": "markdown",
   "id": "824368d9",
   "metadata": {},
   "source": [
    "An LP variable can be printed, which is coded as printing the variable's _name_. In our case the names are quite unreadable because they are based on the keys we passed. Here is an example of the name of a variable."
   ]
  },
  {
   "cell_type": "code",
   "execution_count": 18,
   "id": "c2b67c48",
   "metadata": {},
   "outputs": [
    {
     "name": "stdout",
     "output_type": "stream",
     "text": [
      "assign_('profA',_'course1')\n"
     ]
    }
   ],
   "source": [
    "print(v)"
   ]
  },
  {
   "cell_type": "markdown",
   "id": "cb16d7e6",
   "metadata": {},
   "source": [
    "We saw names like this pop up in the file `LinAssign.lp`. "
   ]
  },
  {
   "cell_type": "markdown",
   "id": "0f535281",
   "metadata": {},
   "source": [
    "Out of the 83 methods an LP variable has, two seem important method, `name()` and `value()`. \n",
    "The former returns the above mentioned name."
   ]
  },
  {
   "cell_type": "code",
   "execution_count": 19,
   "id": "cf9dbaea",
   "metadata": {},
   "outputs": [
    {
     "data": {
      "text/plain": [
       "\"assign_('profA',_'course1')\""
      ]
     },
     "execution_count": 19,
     "metadata": {},
     "output_type": "execute_result"
    }
   ],
   "source": [
    "v.name"
   ]
  },
  {
   "cell_type": "markdown",
   "id": "d1dbf675",
   "metadata": {},
   "source": [
    "The latter, `value()`, returns the optimal value, at least, _after_ solving."
   ]
  },
  {
   "cell_type": "code",
   "execution_count": 20,
   "id": "5e36fba7",
   "metadata": {},
   "outputs": [
    {
     "data": {
      "text/plain": [
       "1.0"
      ]
     },
     "execution_count": 20,
     "metadata": {},
     "output_type": "execute_result"
    }
   ],
   "source": [
    "v.value()"
   ]
  },
  {
   "cell_type": "markdown",
   "id": "e497511c",
   "metadata": {},
   "source": [
    "With this knowledge, we can print which professor teaches which course and at what cost."
   ]
  },
  {
   "cell_type": "code",
   "execution_count": 21,
   "id": "3368ff4c",
   "metadata": {},
   "outputs": [
    {
     "name": "stdout",
     "output_type": "stream",
     "text": [
      "profA - course1 - 2.5\n",
      "profB - course2 - 1.5\n",
      "profC - course4 - 2.0\n",
      "profD - course3 - 3.5\n",
      "profE - course5 - 1.5\n",
      "11.0\n"
     ]
    }
   ],
   "source": [
    "cost = 0\n",
    "for key,var in assign.items():\n",
    "    if var.value() :\n",
    "        print( f\"{key[0]} - {key[1]} - {costs[key]}\" )\n",
    "        cost += costs[key]\n",
    "print(cost)"
   ]
  },
  {
   "cell_type": "markdown",
   "id": "adfdeeba",
   "metadata": {},
   "source": [
    "Indeed, the cost of this is 11 (2.5+1.5+2.0+3.5+1.5)."
   ]
  },
  {
   "cell_type": "markdown",
   "id": "59a23769",
   "metadata": {},
   "source": [
    "(end)"
   ]
  }
 ],
 "metadata": {
  "kernelspec": {
   "display_name": "Python 3 (ipykernel)",
   "language": "python",
   "name": "python3"
  },
  "language_info": {
   "codemirror_mode": {
    "name": "ipython",
    "version": 3
   },
   "file_extension": ".py",
   "mimetype": "text/x-python",
   "name": "python",
   "nbconvert_exporter": "python",
   "pygments_lexer": "ipython3",
   "version": "3.9.5"
  }
 },
 "nbformat": 4,
 "nbformat_minor": 5
}
