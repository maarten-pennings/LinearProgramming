{
 "cells": [
  {
   "cell_type": "markdown",
   "id": "092ab549",
   "metadata": {},
   "source": [
    "# Linear Programming with PuLP: optimizing a diet\n",
    "\n",
    "I read this [article](https://towardsdatascience.com/linear-programming-and-discrete-optimization-with-python-using-pulp-449f3c5f6e99) and wanted to give it a try myself.\n",
    "\n",
    "The idea is that we run a cantine. We have food items, and for each item we know the price and the nutrients.\n",
    "We want to optimize the price, staying within the boundaries of ninimum and maximum daily intake of the nutrients."
   ]
  },
  {
   "cell_type": "markdown",
   "id": "aa576ab9",
   "metadata": {},
   "source": [
    "## Data\n",
    "\n",
    "I found the github project for that article.\n",
    "It has the source [data](https://github.com/tirthajyoti/Optimization-Python), including the `diet-medium.xls` file\n",
    "(I removed the spaces in the filename and in a food name).\n",
    "\n",
    "We use pandas to read the excel."
   ]
  },
  {
   "cell_type": "code",
   "execution_count": 1,
   "id": "fbe227c9",
   "metadata": {},
   "outputs": [],
   "source": [
    "import pandas as pd"
   ]
  },
  {
   "cell_type": "markdown",
   "id": "2f21a837",
   "metadata": {},
   "source": [
    "The file has 17 data rows, after that there is some \"rubbish\", so we explcitly limit the number fo rows to read."
   ]
  },
  {
   "cell_type": "code",
   "execution_count": 2,
   "id": "2c5fc223",
   "metadata": {},
   "outputs": [],
   "source": [
    "df = pd.read_excel(\"diet-medium.xls\",nrows=17)"
   ]
  },
  {
   "cell_type": "markdown",
   "id": "42461242",
   "metadata": {},
   "source": [
    "Inspect the data frame"
   ]
  },
  {
   "cell_type": "code",
   "execution_count": 3,
   "id": "939ae235",
   "metadata": {
    "scrolled": true
   },
   "outputs": [
    {
     "data": {
      "text/html": [
       "<div>\n",
       "<style scoped>\n",
       "    .dataframe tbody tr th:only-of-type {\n",
       "        vertical-align: middle;\n",
       "    }\n",
       "\n",
       "    .dataframe tbody tr th {\n",
       "        vertical-align: top;\n",
       "    }\n",
       "\n",
       "    .dataframe thead th {\n",
       "        text-align: right;\n",
       "    }\n",
       "</style>\n",
       "<table border=\"1\" class=\"dataframe\">\n",
       "  <thead>\n",
       "    <tr style=\"text-align: right;\">\n",
       "      <th></th>\n",
       "      <th>Foods</th>\n",
       "      <th>Price/Serving</th>\n",
       "      <th>Serving Size</th>\n",
       "      <th>Calories</th>\n",
       "      <th>Cholesterol (mg)</th>\n",
       "      <th>Total_Fat (g)</th>\n",
       "      <th>Sodium (mg)</th>\n",
       "      <th>Carbohydrates (g)</th>\n",
       "      <th>Dietary_Fiber (g)</th>\n",
       "      <th>Protein (g)</th>\n",
       "      <th>Vit_A (IU)</th>\n",
       "      <th>Vit_C (IU)</th>\n",
       "      <th>Calcium (mg)</th>\n",
       "      <th>Iron (mg)</th>\n",
       "    </tr>\n",
       "  </thead>\n",
       "  <tbody>\n",
       "    <tr>\n",
       "      <th>0</th>\n",
       "      <td>Frozen Broccoli</td>\n",
       "      <td>0.48</td>\n",
       "      <td>10 Oz Pkg</td>\n",
       "      <td>73.8</td>\n",
       "      <td>0.0</td>\n",
       "      <td>0.8</td>\n",
       "      <td>68.2</td>\n",
       "      <td>13.6</td>\n",
       "      <td>8.5</td>\n",
       "      <td>8.0</td>\n",
       "      <td>5867.4</td>\n",
       "      <td>160.2</td>\n",
       "      <td>159.0</td>\n",
       "      <td>2.3</td>\n",
       "    </tr>\n",
       "    <tr>\n",
       "      <th>1</th>\n",
       "      <td>Frozen Corn</td>\n",
       "      <td>0.54</td>\n",
       "      <td>1/2 Cup</td>\n",
       "      <td>72.2</td>\n",
       "      <td>0.0</td>\n",
       "      <td>0.6</td>\n",
       "      <td>2.5</td>\n",
       "      <td>17.1</td>\n",
       "      <td>2.0</td>\n",
       "      <td>2.5</td>\n",
       "      <td>106.6</td>\n",
       "      <td>5.2</td>\n",
       "      <td>3.3</td>\n",
       "      <td>0.3</td>\n",
       "    </tr>\n",
       "    <tr>\n",
       "      <th>2</th>\n",
       "      <td>Raw Lettuce Iceberg</td>\n",
       "      <td>0.06</td>\n",
       "      <td>1 Leaf</td>\n",
       "      <td>2.6</td>\n",
       "      <td>0.0</td>\n",
       "      <td>0.0</td>\n",
       "      <td>1.8</td>\n",
       "      <td>0.4</td>\n",
       "      <td>0.3</td>\n",
       "      <td>0.2</td>\n",
       "      <td>66.0</td>\n",
       "      <td>0.8</td>\n",
       "      <td>3.8</td>\n",
       "      <td>0.1</td>\n",
       "    </tr>\n",
       "    <tr>\n",
       "      <th>3</th>\n",
       "      <td>Baked Potatoes</td>\n",
       "      <td>0.18</td>\n",
       "      <td>1/2 Cup</td>\n",
       "      <td>171.5</td>\n",
       "      <td>0.0</td>\n",
       "      <td>0.2</td>\n",
       "      <td>15.2</td>\n",
       "      <td>39.9</td>\n",
       "      <td>3.2</td>\n",
       "      <td>3.7</td>\n",
       "      <td>0.0</td>\n",
       "      <td>15.6</td>\n",
       "      <td>22.7</td>\n",
       "      <td>4.3</td>\n",
       "    </tr>\n",
       "    <tr>\n",
       "      <th>4</th>\n",
       "      <td>Tofu</td>\n",
       "      <td>0.93</td>\n",
       "      <td>1/4 block</td>\n",
       "      <td>88.2</td>\n",
       "      <td>0.0</td>\n",
       "      <td>5.5</td>\n",
       "      <td>8.1</td>\n",
       "      <td>2.2</td>\n",
       "      <td>1.4</td>\n",
       "      <td>9.4</td>\n",
       "      <td>98.6</td>\n",
       "      <td>0.1</td>\n",
       "      <td>121.8</td>\n",
       "      <td>6.2</td>\n",
       "    </tr>\n",
       "    <tr>\n",
       "      <th>5</th>\n",
       "      <td>Roasted Chicken</td>\n",
       "      <td>2.52</td>\n",
       "      <td>1 lb chicken</td>\n",
       "      <td>277.4</td>\n",
       "      <td>129.9</td>\n",
       "      <td>10.8</td>\n",
       "      <td>125.6</td>\n",
       "      <td>0.0</td>\n",
       "      <td>0.0</td>\n",
       "      <td>42.2</td>\n",
       "      <td>77.4</td>\n",
       "      <td>0.0</td>\n",
       "      <td>21.9</td>\n",
       "      <td>1.8</td>\n",
       "    </tr>\n",
       "    <tr>\n",
       "      <th>6</th>\n",
       "      <td>Spaghetti W/ Sauce</td>\n",
       "      <td>2.34</td>\n",
       "      <td>1 1/2 Cup</td>\n",
       "      <td>358.2</td>\n",
       "      <td>0.0</td>\n",
       "      <td>12.3</td>\n",
       "      <td>1237.1</td>\n",
       "      <td>58.3</td>\n",
       "      <td>11.6</td>\n",
       "      <td>8.2</td>\n",
       "      <td>3055.2</td>\n",
       "      <td>27.9</td>\n",
       "      <td>80.2</td>\n",
       "      <td>2.3</td>\n",
       "    </tr>\n",
       "    <tr>\n",
       "      <th>7</th>\n",
       "      <td>Raw Apple</td>\n",
       "      <td>0.72</td>\n",
       "      <td>1 Fruit,3/Lb,Wo/Rf</td>\n",
       "      <td>81.4</td>\n",
       "      <td>0.0</td>\n",
       "      <td>0.5</td>\n",
       "      <td>0.0</td>\n",
       "      <td>21.0</td>\n",
       "      <td>3.7</td>\n",
       "      <td>0.3</td>\n",
       "      <td>73.1</td>\n",
       "      <td>7.9</td>\n",
       "      <td>9.7</td>\n",
       "      <td>0.2</td>\n",
       "    </tr>\n",
       "    <tr>\n",
       "      <th>8</th>\n",
       "      <td>Banana</td>\n",
       "      <td>0.45</td>\n",
       "      <td>1 Fruit,Wo/Skn&amp;Seeds</td>\n",
       "      <td>104.9</td>\n",
       "      <td>0.0</td>\n",
       "      <td>0.5</td>\n",
       "      <td>1.1</td>\n",
       "      <td>26.7</td>\n",
       "      <td>2.7</td>\n",
       "      <td>1.2</td>\n",
       "      <td>92.3</td>\n",
       "      <td>10.4</td>\n",
       "      <td>6.8</td>\n",
       "      <td>0.4</td>\n",
       "    </tr>\n",
       "    <tr>\n",
       "      <th>9</th>\n",
       "      <td>Wheat Bread</td>\n",
       "      <td>0.15</td>\n",
       "      <td>1 Sl</td>\n",
       "      <td>65.0</td>\n",
       "      <td>0.0</td>\n",
       "      <td>1.0</td>\n",
       "      <td>134.5</td>\n",
       "      <td>12.4</td>\n",
       "      <td>1.3</td>\n",
       "      <td>2.2</td>\n",
       "      <td>0.0</td>\n",
       "      <td>0.0</td>\n",
       "      <td>10.8</td>\n",
       "      <td>0.7</td>\n",
       "    </tr>\n",
       "    <tr>\n",
       "      <th>10</th>\n",
       "      <td>White Bread</td>\n",
       "      <td>0.18</td>\n",
       "      <td>1 Sl</td>\n",
       "      <td>65.0</td>\n",
       "      <td>0.0</td>\n",
       "      <td>1.0</td>\n",
       "      <td>132.5</td>\n",
       "      <td>11.8</td>\n",
       "      <td>1.1</td>\n",
       "      <td>2.3</td>\n",
       "      <td>0.0</td>\n",
       "      <td>0.0</td>\n",
       "      <td>26.2</td>\n",
       "      <td>0.8</td>\n",
       "    </tr>\n",
       "    <tr>\n",
       "      <th>11</th>\n",
       "      <td>Oatmeal Cookies</td>\n",
       "      <td>0.27</td>\n",
       "      <td>1 Cookie</td>\n",
       "      <td>81.0</td>\n",
       "      <td>0.0</td>\n",
       "      <td>3.3</td>\n",
       "      <td>68.9</td>\n",
       "      <td>12.4</td>\n",
       "      <td>0.6</td>\n",
       "      <td>1.1</td>\n",
       "      <td>2.9</td>\n",
       "      <td>0.1</td>\n",
       "      <td>6.7</td>\n",
       "      <td>0.5</td>\n",
       "    </tr>\n",
       "    <tr>\n",
       "      <th>12</th>\n",
       "      <td>Apple Pie</td>\n",
       "      <td>0.48</td>\n",
       "      <td>1 Oz</td>\n",
       "      <td>67.2</td>\n",
       "      <td>0.0</td>\n",
       "      <td>3.1</td>\n",
       "      <td>75.4</td>\n",
       "      <td>9.6</td>\n",
       "      <td>0.5</td>\n",
       "      <td>0.5</td>\n",
       "      <td>35.2</td>\n",
       "      <td>0.9</td>\n",
       "      <td>3.1</td>\n",
       "      <td>0.1</td>\n",
       "    </tr>\n",
       "    <tr>\n",
       "      <th>13</th>\n",
       "      <td>Scrambled Eggs</td>\n",
       "      <td>0.33</td>\n",
       "      <td>1 Egg</td>\n",
       "      <td>99.6</td>\n",
       "      <td>211.2</td>\n",
       "      <td>7.3</td>\n",
       "      <td>168.0</td>\n",
       "      <td>1.3</td>\n",
       "      <td>0.0</td>\n",
       "      <td>6.7</td>\n",
       "      <td>409.2</td>\n",
       "      <td>0.1</td>\n",
       "      <td>42.6</td>\n",
       "      <td>0.7</td>\n",
       "    </tr>\n",
       "    <tr>\n",
       "      <th>14</th>\n",
       "      <td>Turkey Bologna</td>\n",
       "      <td>0.45</td>\n",
       "      <td>1 Oz</td>\n",
       "      <td>56.4</td>\n",
       "      <td>28.1</td>\n",
       "      <td>4.3</td>\n",
       "      <td>248.9</td>\n",
       "      <td>0.3</td>\n",
       "      <td>0.0</td>\n",
       "      <td>3.9</td>\n",
       "      <td>0.0</td>\n",
       "      <td>0.0</td>\n",
       "      <td>23.8</td>\n",
       "      <td>0.4</td>\n",
       "    </tr>\n",
       "    <tr>\n",
       "      <th>15</th>\n",
       "      <td>Beef Frankfurter</td>\n",
       "      <td>0.81</td>\n",
       "      <td>1 Frankfurter</td>\n",
       "      <td>141.8</td>\n",
       "      <td>27.4</td>\n",
       "      <td>12.8</td>\n",
       "      <td>461.7</td>\n",
       "      <td>0.8</td>\n",
       "      <td>0.0</td>\n",
       "      <td>5.4</td>\n",
       "      <td>0.0</td>\n",
       "      <td>10.8</td>\n",
       "      <td>9.0</td>\n",
       "      <td>0.6</td>\n",
       "    </tr>\n",
       "    <tr>\n",
       "      <th>16</th>\n",
       "      <td>Chocolate Chip Cookies</td>\n",
       "      <td>0.09</td>\n",
       "      <td>1 Cookie</td>\n",
       "      <td>78.1</td>\n",
       "      <td>5.1</td>\n",
       "      <td>4.5</td>\n",
       "      <td>57.8</td>\n",
       "      <td>9.3</td>\n",
       "      <td>0.0</td>\n",
       "      <td>0.9</td>\n",
       "      <td>101.8</td>\n",
       "      <td>0.0</td>\n",
       "      <td>6.2</td>\n",
       "      <td>0.4</td>\n",
       "    </tr>\n",
       "  </tbody>\n",
       "</table>\n",
       "</div>"
      ],
      "text/plain": [
       "                     Foods  Price/Serving          Serving Size  Calories  \\\n",
       "0          Frozen Broccoli           0.48             10 Oz Pkg      73.8   \n",
       "1              Frozen Corn           0.54               1/2 Cup      72.2   \n",
       "2      Raw Lettuce Iceberg           0.06                1 Leaf       2.6   \n",
       "3           Baked Potatoes           0.18               1/2 Cup     171.5   \n",
       "4                     Tofu           0.93             1/4 block      88.2   \n",
       "5          Roasted Chicken           2.52          1 lb chicken     277.4   \n",
       "6       Spaghetti W/ Sauce           2.34             1 1/2 Cup     358.2   \n",
       "7                Raw Apple           0.72    1 Fruit,3/Lb,Wo/Rf      81.4   \n",
       "8                   Banana           0.45  1 Fruit,Wo/Skn&Seeds     104.9   \n",
       "9              Wheat Bread           0.15                  1 Sl      65.0   \n",
       "10             White Bread           0.18                  1 Sl      65.0   \n",
       "11         Oatmeal Cookies           0.27              1 Cookie      81.0   \n",
       "12               Apple Pie           0.48                  1 Oz      67.2   \n",
       "13          Scrambled Eggs           0.33                 1 Egg      99.6   \n",
       "14          Turkey Bologna           0.45                  1 Oz      56.4   \n",
       "15        Beef Frankfurter           0.81         1 Frankfurter     141.8   \n",
       "16  Chocolate Chip Cookies           0.09              1 Cookie      78.1   \n",
       "\n",
       "    Cholesterol (mg)  Total_Fat (g)  Sodium (mg)  Carbohydrates (g)  \\\n",
       "0                0.0            0.8         68.2               13.6   \n",
       "1                0.0            0.6          2.5               17.1   \n",
       "2                0.0            0.0          1.8                0.4   \n",
       "3                0.0            0.2         15.2               39.9   \n",
       "4                0.0            5.5          8.1                2.2   \n",
       "5              129.9           10.8        125.6                0.0   \n",
       "6                0.0           12.3       1237.1               58.3   \n",
       "7                0.0            0.5          0.0               21.0   \n",
       "8                0.0            0.5          1.1               26.7   \n",
       "9                0.0            1.0        134.5               12.4   \n",
       "10               0.0            1.0        132.5               11.8   \n",
       "11               0.0            3.3         68.9               12.4   \n",
       "12               0.0            3.1         75.4                9.6   \n",
       "13             211.2            7.3        168.0                1.3   \n",
       "14              28.1            4.3        248.9                0.3   \n",
       "15              27.4           12.8        461.7                0.8   \n",
       "16               5.1            4.5         57.8                9.3   \n",
       "\n",
       "    Dietary_Fiber (g)  Protein (g)  Vit_A (IU)  Vit_C (IU)  Calcium (mg)  \\\n",
       "0                 8.5          8.0      5867.4       160.2         159.0   \n",
       "1                 2.0          2.5       106.6         5.2           3.3   \n",
       "2                 0.3          0.2        66.0         0.8           3.8   \n",
       "3                 3.2          3.7         0.0        15.6          22.7   \n",
       "4                 1.4          9.4        98.6         0.1         121.8   \n",
       "5                 0.0         42.2        77.4         0.0          21.9   \n",
       "6                11.6          8.2      3055.2        27.9          80.2   \n",
       "7                 3.7          0.3        73.1         7.9           9.7   \n",
       "8                 2.7          1.2        92.3        10.4           6.8   \n",
       "9                 1.3          2.2         0.0         0.0          10.8   \n",
       "10                1.1          2.3         0.0         0.0          26.2   \n",
       "11                0.6          1.1         2.9         0.1           6.7   \n",
       "12                0.5          0.5        35.2         0.9           3.1   \n",
       "13                0.0          6.7       409.2         0.1          42.6   \n",
       "14                0.0          3.9         0.0         0.0          23.8   \n",
       "15                0.0          5.4         0.0        10.8           9.0   \n",
       "16                0.0          0.9       101.8         0.0           6.2   \n",
       "\n",
       "    Iron (mg)  \n",
       "0         2.3  \n",
       "1         0.3  \n",
       "2         0.1  \n",
       "3         4.3  \n",
       "4         6.2  \n",
       "5         1.8  \n",
       "6         2.3  \n",
       "7         0.2  \n",
       "8         0.4  \n",
       "9         0.7  \n",
       "10        0.8  \n",
       "11        0.5  \n",
       "12        0.1  \n",
       "13        0.7  \n",
       "14        0.4  \n",
       "15        0.6  \n",
       "16        0.4  "
      ]
     },
     "execution_count": 3,
     "metadata": {},
     "output_type": "execute_result"
    }
   ],
   "source": [
    "df"
   ]
  },
  {
   "cell_type": "markdown",
   "id": "b9cea52b",
   "metadata": {},
   "source": [
    "Observe that for each \"Foods\" item we know nutrients like Fat, but also Calories."
   ]
  },
  {
   "cell_type": "markdown",
   "id": "a54a60ec",
   "metadata": {},
   "source": [
    "This is the list of foods."
   ]
  },
  {
   "cell_type": "code",
   "execution_count": 4,
   "id": "32a80ff7",
   "metadata": {},
   "outputs": [
    {
     "data": {
      "text/plain": [
       "['Frozen Broccoli',\n",
       " 'Frozen Corn',\n",
       " 'Raw Lettuce Iceberg',\n",
       " 'Baked Potatoes',\n",
       " 'Tofu',\n",
       " 'Roasted Chicken',\n",
       " 'Spaghetti W/ Sauce',\n",
       " 'Raw Apple',\n",
       " 'Banana',\n",
       " 'Wheat Bread',\n",
       " 'White Bread',\n",
       " 'Oatmeal Cookies',\n",
       " 'Apple Pie',\n",
       " 'Scrambled Eggs',\n",
       " 'Turkey Bologna',\n",
       " 'Beef Frankfurter',\n",
       " 'Chocolate Chip Cookies']"
      ]
     },
     "execution_count": 4,
     "metadata": {},
     "output_type": "execute_result"
    }
   ],
   "source": [
    "foods = list(df['Foods'])\n",
    "foods"
   ]
  },
  {
   "cell_type": "markdown",
   "id": "2a9aefe5",
   "metadata": {},
   "source": [
    "We make a `cost` dictionary, mapping Foods to Price. Instead of using `df['Foods']` we could also use the just created `foods`."
   ]
  },
  {
   "cell_type": "code",
   "execution_count": 5,
   "id": "ee1b8205",
   "metadata": {},
   "outputs": [
    {
     "data": {
      "text/plain": [
       "{'Frozen Broccoli': 0.48,\n",
       " 'Frozen Corn': 0.54,\n",
       " 'Raw Lettuce Iceberg': 0.06,\n",
       " 'Baked Potatoes': 0.18,\n",
       " 'Tofu': 0.9299999999999999,\n",
       " 'Roasted Chicken': 2.52,\n",
       " 'Spaghetti W/ Sauce': 2.34,\n",
       " 'Raw Apple': 0.72,\n",
       " 'Banana': 0.44999999999999996,\n",
       " 'Wheat Bread': 0.15000000000000002,\n",
       " 'White Bread': 0.18,\n",
       " 'Oatmeal Cookies': 0.27,\n",
       " 'Apple Pie': 0.48,\n",
       " 'Scrambled Eggs': 0.33,\n",
       " 'Turkey Bologna': 0.44999999999999996,\n",
       " 'Beef Frankfurter': 0.81,\n",
       " 'Chocolate Chip Cookies': 0.09}"
      ]
     },
     "execution_count": 5,
     "metadata": {},
     "output_type": "execute_result"
    }
   ],
   "source": [
    "costs = dict(zip(df['Foods'],df['Price/Serving']))\n",
    "costs"
   ]
  },
  {
   "cell_type": "markdown",
   "id": "dd7e249f",
   "metadata": {},
   "source": [
    "Similarly we make a `cals` dictionary mapping Foods to Calories, and for `fats`"
   ]
  },
  {
   "cell_type": "code",
   "execution_count": 6,
   "id": "4ee67b8f",
   "metadata": {},
   "outputs": [
    {
     "data": {
      "text/plain": [
       "{'Frozen Broccoli': 73.8,\n",
       " 'Frozen Corn': 72.2,\n",
       " 'Raw Lettuce Iceberg': 2.6,\n",
       " 'Baked Potatoes': 171.5,\n",
       " 'Tofu': 88.2,\n",
       " 'Roasted Chicken': 277.4,\n",
       " 'Spaghetti W/ Sauce': 358.2,\n",
       " 'Raw Apple': 81.4,\n",
       " 'Banana': 104.9,\n",
       " 'Wheat Bread': 65.0,\n",
       " 'White Bread': 65.0,\n",
       " 'Oatmeal Cookies': 81.0,\n",
       " 'Apple Pie': 67.2,\n",
       " 'Scrambled Eggs': 99.6,\n",
       " 'Turkey Bologna': 56.4,\n",
       " 'Beef Frankfurter': 141.8,\n",
       " 'Chocolate Chip Cookies': 78.1}"
      ]
     },
     "execution_count": 6,
     "metadata": {},
     "output_type": "execute_result"
    }
   ],
   "source": [
    "cals = dict(zip(df['Foods'],df['Calories']))\n",
    "cals"
   ]
  },
  {
   "cell_type": "code",
   "execution_count": 7,
   "id": "b7b647a9",
   "metadata": {},
   "outputs": [
    {
     "data": {
      "text/plain": [
       "{'Frozen Broccoli': 0.8,\n",
       " 'Frozen Corn': 0.6,\n",
       " 'Raw Lettuce Iceberg': 0.0,\n",
       " 'Baked Potatoes': 0.2,\n",
       " 'Tofu': 5.5,\n",
       " 'Roasted Chicken': 10.8,\n",
       " 'Spaghetti W/ Sauce': 12.3,\n",
       " 'Raw Apple': 0.5,\n",
       " 'Banana': 0.5,\n",
       " 'Wheat Bread': 1.0,\n",
       " 'White Bread': 1.0,\n",
       " 'Oatmeal Cookies': 3.3,\n",
       " 'Apple Pie': 3.1,\n",
       " 'Scrambled Eggs': 7.3,\n",
       " 'Turkey Bologna': 4.3,\n",
       " 'Beef Frankfurter': 12.8,\n",
       " 'Chocolate Chip Cookies': 4.5}"
      ]
     },
     "execution_count": 7,
     "metadata": {},
     "output_type": "execute_result"
    }
   ],
   "source": [
    "fats = dict(zip(df['Foods'],df['Total_Fat (g)']))\n",
    "fats"
   ]
  },
  {
   "cell_type": "markdown",
   "id": "dbeb2420",
   "metadata": {},
   "source": [
    "## Setting up the problem\n",
    "\n",
    "We import pulp, and create variables, one for each `foods` item. That variable holds the quantity for that foods items, hence it is non-integer (\"continuous\"), but also non-negative (lower bound 0)."
   ]
  },
  {
   "cell_type": "code",
   "execution_count": 8,
   "id": "6646f657",
   "metadata": {},
   "outputs": [],
   "source": [
    "import pulp"
   ]
  },
  {
   "cell_type": "code",
   "execution_count": 9,
   "id": "e730a8c7",
   "metadata": {},
   "outputs": [
    {
     "data": {
      "text/plain": [
       "{'Frozen Broccoli': var_Frozen_Broccoli,\n",
       " 'Frozen Corn': var_Frozen_Corn,\n",
       " 'Raw Lettuce Iceberg': var_Raw_Lettuce_Iceberg,\n",
       " 'Baked Potatoes': var_Baked_Potatoes,\n",
       " 'Tofu': var_Tofu,\n",
       " 'Roasted Chicken': var_Roasted_Chicken,\n",
       " 'Spaghetti W/ Sauce': var_Spaghetti_W__Sauce,\n",
       " 'Raw Apple': var_Raw_Apple,\n",
       " 'Banana': var_Banana,\n",
       " 'Wheat Bread': var_Wheat_Bread,\n",
       " 'White Bread': var_White_Bread,\n",
       " 'Oatmeal Cookies': var_Oatmeal_Cookies,\n",
       " 'Apple Pie': var_Apple_Pie,\n",
       " 'Scrambled Eggs': var_Scrambled_Eggs,\n",
       " 'Turkey Bologna': var_Turkey_Bologna,\n",
       " 'Beef Frankfurter': var_Beef_Frankfurter,\n",
       " 'Chocolate Chip Cookies': var_Chocolate_Chip_Cookies}"
      ]
     },
     "execution_count": 9,
     "metadata": {},
     "output_type": "execute_result"
    }
   ],
   "source": [
    "vars = pulp.LpVariable.dicts(\"var\",df['Foods'],lowBound=0,cat='Continuous')\n",
    "vars"
   ]
  },
  {
   "cell_type": "markdown",
   "id": "53822093",
   "metadata": {},
   "source": [
    "We will now create the linear programming problem; it will aim at minimizing the cost of the diet."
   ]
  },
  {
   "cell_type": "code",
   "execution_count": 10,
   "id": "1ee82687",
   "metadata": {},
   "outputs": [],
   "source": [
    "prob = pulp.LpProblem(\"diet\",pulp.LpMinimize)"
   ]
  },
  {
   "cell_type": "markdown",
   "id": "ebca6dbb",
   "metadata": {},
   "source": [
    "The next step feels strange to me: we \"add\" the objective function, the cost in our case."
   ]
  },
  {
   "cell_type": "code",
   "execution_count": 11,
   "id": "8b004c29",
   "metadata": {},
   "outputs": [],
   "source": [
    "prob += pulp.lpSum( [costs[f]*vars[f] for f in foods] ), \"Cost of the diet\""
   ]
  },
  {
   "cell_type": "markdown",
   "id": "33c55587",
   "metadata": {},
   "source": [
    "The spreadsheet has, for each ingredient a minimum and maximum value. For example, for Callories it lists 800 respectively 1300. We again \"add\" those constrains to our problem."
   ]
  },
  {
   "cell_type": "code",
   "execution_count": 12,
   "id": "11d316d7",
   "metadata": {},
   "outputs": [],
   "source": [
    "prob += pulp.lpSum( [cals[f] * vars[f] for f in foods] ) >= 800.0, \"Minimum calories\"\n",
    "prob += pulp.lpSum( [cals[f] * vars[f] for f in foods] ) <= 1300.0, \"Maximum calories\""
   ]
  },
  {
   "cell_type": "markdown",
   "id": "58a43d92",
   "metadata": {},
   "source": [
    "We do the same for fat (excel shows 20 and 50 gram as limits)."
   ]
  },
  {
   "cell_type": "code",
   "execution_count": 13,
   "id": "0571891b",
   "metadata": {},
   "outputs": [],
   "source": [
    "prob += pulp.lpSum( [fats[f] * vars[f] for f in foods] ) >= 20.0, \"Minimum fat\"\n",
    "prob += pulp.lpSum( [fats[f] * vars[f] for f in foods] ) <= 50.0, \"Maximum fat\""
   ]
  },
  {
   "cell_type": "markdown",
   "id": "0938c15d",
   "metadata": {},
   "source": [
    "We save the problem to a file."
   ]
  },
  {
   "cell_type": "code",
   "execution_count": 14,
   "id": "c36ffd09",
   "metadata": {},
   "outputs": [],
   "source": [
    "# The problem data is written to an .lp file\n",
    "prob.writeLP(\"diet.lp\");"
   ]
  },
  {
   "cell_type": "markdown",
   "id": "e5e22aed",
   "metadata": {},
   "source": [
    "The content of that file is very readble."
   ]
  },
  {
   "cell_type": "code",
   "execution_count": 15,
   "id": "0889980c",
   "metadata": {},
   "outputs": [
    {
     "name": "stdout",
     "output_type": "stream",
     "text": [
      "\\* diet *\\\n",
      "Minimize\n",
      "Cost_of_the_diet: 0.48 var_Apple_Pie + 0.18 var_Baked_Potatoes\n",
      " + 0.45 var_Banana + 0.81 var_Beef_Frankfurter\n",
      " + 0.09 var_Chocolate_Chip_Cookies + 0.48 var_Frozen_Broccoli\n",
      " + 0.54 var_Frozen_Corn + 0.27 var_Oatmeal_Cookies + 0.72 var_Raw_Apple\n",
      " + 0.06 var_Raw_Lettuce_Iceberg + 2.52 var_Roasted_Chicken\n",
      " + 0.33 var_Scrambled_Eggs + 2.34 var_Spaghetti_W__Sauce + 0.93 var_Tofu\n",
      " + 0.45 var_Turkey_Bologna + 0.15 var_Wheat_Bread + 0.18 var_White_Bread\n",
      "Subject To\n",
      "Maximum_calories: 67.2 var_Apple_Pie + 171.5 var_Baked_Potatoes\n",
      " + 104.9 var_Banana + 141.8 var_Beef_Frankfurter\n",
      " + 78.1 var_Chocolate_Chip_Cookies + 73.8 var_Frozen_Broccoli\n",
      " + 72.2 var_Frozen_Corn + 81 var_Oatmeal_Cookies + 81.4 var_Raw_Apple\n",
      " + 2.6 var_Raw_Lettuce_Iceberg + 277.4 var_Roasted_Chicken\n",
      " + 99.6 var_Scrambled_Eggs + 358.2 var_Spaghetti_W__Sauce + 88.2 var_Tofu\n",
      " + 56.4 var_Turkey_Bologna + 65 var_Wheat_Bread + 65 var_White_Bread <= 1300\n",
      "Maximum_fat: 3.1 var_Apple_Pie + 0.2 var_Baked_Potatoes + 0.5 var_Banana\n",
      " + 12.8 var_Beef_Frankfurter + 4.5 var_Chocolate_Chip_Cookies\n",
      " + 0.8 var_Frozen_Broccoli + 0.6 var_Frozen_Corn + 3.3 var_Oatmeal_Cookies\n",
      " + 0.5 var_Raw_Apple + 10.8 var_Roasted_Chicken + 7.3 var_Scrambled_Eggs\n",
      " + 12.3 var_Spaghetti_W__Sauce + 5.5 var_Tofu + 4.3 var_Turkey_Bologna\n",
      " + var_Wheat_Bread + var_White_Bread <= 50\n",
      "Minimum_calories: 67.2 var_Apple_Pie + 171.5 var_Baked_Potatoes\n",
      " + 104.9 var_Banana + 141.8 var_Beef_Frankfurter\n",
      " + 78.1 var_Chocolate_Chip_Cookies + 73.8 var_Frozen_Broccoli\n",
      " + 72.2 var_Frozen_Corn + 81 var_Oatmeal_Cookies + 81.4 var_Raw_Apple\n",
      " + 2.6 var_Raw_Lettuce_Iceberg + 277.4 var_Roasted_Chicken\n",
      " + 99.6 var_Scrambled_Eggs + 358.2 var_Spaghetti_W__Sauce + 88.2 var_Tofu\n",
      " + 56.4 var_Turkey_Bologna + 65 var_Wheat_Bread + 65 var_White_Bread >= 800\n",
      "Minimum_fat: 3.1 var_Apple_Pie + 0.2 var_Baked_Potatoes + 0.5 var_Banana\n",
      " + 12.8 var_Beef_Frankfurter + 4.5 var_Chocolate_Chip_Cookies\n",
      " + 0.8 var_Frozen_Broccoli + 0.6 var_Frozen_Corn + 3.3 var_Oatmeal_Cookies\n",
      " + 0.5 var_Raw_Apple + 10.8 var_Roasted_Chicken + 7.3 var_Scrambled_Eggs\n",
      " + 12.3 var_Spaghetti_W__Sauce + 5.5 var_Tofu + 4.3 var_Turkey_Bologna\n",
      " + var_Wheat_Bread + var_White_Bread >= 20\n",
      "End\n"
     ]
    }
   ],
   "source": [
    "!type diet.lp"
   ]
  },
  {
   "cell_type": "markdown",
   "id": "8879d645",
   "metadata": {},
   "source": [
    "## Solving the problem\n",
    "\n",
    "When we try to solve it, we find an \"Optimal\" solution."
   ]
  },
  {
   "cell_type": "code",
   "execution_count": 16,
   "id": "f74706c2",
   "metadata": {},
   "outputs": [
    {
     "data": {
      "text/plain": [
       "'Optimal'"
      ]
     },
     "execution_count": 16,
     "metadata": {},
     "output_type": "execute_result"
    }
   ],
   "source": [
    "stat = prob.solve()\n",
    "pulp.LpStatus[stat]"
   ]
  },
  {
   "cell_type": "markdown",
   "id": "f11a6e65",
   "metadata": {},
   "source": [
    "Which are the components of the cost optimized meal (with cals and fats constraints)?"
   ]
  },
  {
   "cell_type": "code",
   "execution_count": 17,
   "id": "85407123",
   "metadata": {},
   "outputs": [
    {
     "name": "stdout",
     "output_type": "stream",
     "text": [
      "var_Baked_Potatoes=2.6953037\n",
      "var_Chocolate_Chip_Cookies=4.3246532\n"
     ]
    }
   ],
   "source": [
    "for v in prob.variables() : \n",
    "    if v.varValue>0.0 : \n",
    "        print( f\"{v.name}={v.varValue}\" )"
   ]
  },
  {
   "cell_type": "markdown",
   "id": "d315493b",
   "metadata": {},
   "source": [
    "Doesn't look too healthy, but it is dirt-cheap:"
   ]
  },
  {
   "cell_type": "code",
   "execution_count": 18,
   "id": "b3f7ae1b",
   "metadata": {},
   "outputs": [
    {
     "data": {
      "text/plain": [
       "0.874373454"
      ]
     },
     "execution_count": 18,
     "metadata": {},
     "output_type": "execute_result"
    }
   ],
   "source": [
    "pulp.value(prob.objective)"
   ]
  },
  {
   "cell_type": "markdown",
   "id": "e6e6535d",
   "metadata": {},
   "source": [
    "Looking up the price per portion from the excel, we can check that; it matches."
   ]
  },
  {
   "cell_type": "code",
   "execution_count": 19,
   "id": "68641109",
   "metadata": {},
   "outputs": [
    {
     "data": {
      "text/plain": [
       "0.8742599999999999"
      ]
     },
     "execution_count": 19,
     "metadata": {},
     "output_type": "execute_result"
    }
   ],
   "source": [
    "2.695*0.18 + 4.324*0.09"
   ]
  },
  {
   "cell_type": "markdown",
   "id": "63347c6e",
   "metadata": {},
   "source": [
    "## Improving the diet"
   ]
  },
  {
   "cell_type": "markdown",
   "id": "f822d9d9",
   "metadata": {},
   "source": [
    "Let's add fiber to the constraints."
   ]
  },
  {
   "cell_type": "code",
   "execution_count": 20,
   "id": "24d9c6c0",
   "metadata": {},
   "outputs": [],
   "source": [
    "fiber = dict(zip(df['Foods'],df['Dietary_Fiber (g)']))\n",
    "prob += pulp.lpSum( [fiber[f] * vars[f] for f in foods] ) >= 60.0, \"Minimum fiber\"\n",
    "prob += pulp.lpSum( [fiber[f] * vars[f] for f in foods] ) <= 125.0, \"Maximum fiber\""
   ]
  },
  {
   "cell_type": "markdown",
   "id": "2550400d",
   "metadata": {},
   "source": [
    "Solve the problem again"
   ]
  },
  {
   "cell_type": "code",
   "execution_count": 21,
   "id": "77a1e403",
   "metadata": {},
   "outputs": [
    {
     "data": {
      "text/plain": [
       "'Optimal'"
      ]
     },
     "execution_count": 21,
     "metadata": {},
     "output_type": "execute_result"
    }
   ],
   "source": [
    "stat = prob.solve()\n",
    "pulp.LpStatus[stat]"
   ]
  },
  {
   "cell_type": "markdown",
   "id": "6eedbd04",
   "metadata": {},
   "source": [
    "Print the meal components"
   ]
  },
  {
   "cell_type": "code",
   "execution_count": 22,
   "id": "11da63e9",
   "metadata": {},
   "outputs": [
    {
     "name": "stdout",
     "output_type": "stream",
     "text": [
      "var_Baked_Potatoes         = 0.2059191\n",
      "var_Chocolate_Chip_Cookies = 3.1941723\n",
      "var_Frozen_Broccoli        = 6.981301\n"
     ]
    }
   ],
   "source": [
    "for v in prob.variables() : \n",
    "    if v.varValue>0.0 : \n",
    "        print( f\"{v.name:26} = {v.varValue}\" )"
   ]
  },
  {
   "cell_type": "markdown",
   "id": "1ac55fd8",
   "metadata": {},
   "source": [
    "and the price. Broccoli is in, and the price is up!"
   ]
  },
  {
   "cell_type": "code",
   "execution_count": 23,
   "id": "746758b7",
   "metadata": {},
   "outputs": [
    {
     "name": "stdout",
     "output_type": "stream",
     "text": [
      "$3.68\n"
     ]
    }
   ],
   "source": [
    "c = pulp.value(prob.objective)\n",
    "print( f\"${c:.2f}\" )"
   ]
  },
  {
   "cell_type": "markdown",
   "id": "614d98b9",
   "metadata": {},
   "source": [
    "(end)"
   ]
  }
 ],
 "metadata": {
  "kernelspec": {
   "display_name": "Python 3 (ipykernel)",
   "language": "python",
   "name": "python3"
  },
  "language_info": {
   "codemirror_mode": {
    "name": "ipython",
    "version": 3
   },
   "file_extension": ".py",
   "mimetype": "text/x-python",
   "name": "python",
   "nbconvert_exporter": "python",
   "pygments_lexer": "ipython3",
   "version": "3.9.5"
  }
 },
 "nbformat": 4,
 "nbformat_minor": 5
}
