{
 "cells": [
  {
   "cell_type": "markdown",
   "id": "6a4f734a",
   "metadata": {},
   "source": [
    "# OptArt\n",
    "\n",
    "An example from the book [Opt Art by Robert Bosch](https://www.amazon.com/Opt-Art-Mathematical-Optimization-Visual/dp/0691164061) (chapter 3)."
   ]
  },
  {
   "cell_type": "code",
   "execution_count": 1,
   "id": "a0c5557b",
   "metadata": {},
   "outputs": [],
   "source": [
    "import pulp"
   ]
  },
  {
   "cell_type": "markdown",
   "id": "e835b3da",
   "metadata": {},
   "source": [
    "## Problem\n",
    "\n",
    "The problem in the book is as follows.\n",
    "\n",
    "- Lars can make lego chairs: a chair needs 2 small lego bricks (2×2) and 1 large lego brick (2×4).\n",
    "- Lars can make lego tables: a table needs 2 small lego bricks (2×2) and 2 large lego bricks (2×4).\n",
    "- A chair earns Lars 8 kroner.\n",
    "- A table earns Lars 11 kroner.\n",
    "- Lars has a stock of 24 small bricks and 18 large bricks."
   ]
  },
  {
   "cell_type": "markdown",
   "id": "337c84f1",
   "metadata": {},
   "source": [
    "Lars wants to know how many chairs and tables to make."
   ]
  },
  {
   "cell_type": "code",
   "execution_count": 2,
   "id": "63db8519",
   "metadata": {},
   "outputs": [],
   "source": [
    "chairs = pulp.LpVariable('chairs',lowBound = 0, cat='Integer')\n",
    "tables = pulp.LpVariable('tables',lowBound = 0, cat='Integer')"
   ]
  },
  {
   "cell_type": "markdown",
   "id": "6c8ae09b",
   "metadata": {},
   "source": [
    "Lars wants to maximize his earnings."
   ]
  },
  {
   "cell_type": "code",
   "execution_count": 3,
   "id": "3c290144",
   "metadata": {},
   "outputs": [],
   "source": [
    "prob1 = pulp.LpProblem(\"OptArt1\",pulp.LpMaximize)"
   ]
  },
  {
   "cell_type": "code",
   "execution_count": 4,
   "id": "14b1f03e",
   "metadata": {},
   "outputs": [],
   "source": [
    "prob1 += 8*chairs + 11*tables, \"Earnings\""
   ]
  },
  {
   "cell_type": "markdown",
   "id": "24e9a21a",
   "metadata": {},
   "source": [
    "He is limited by his stock."
   ]
  },
  {
   "cell_type": "code",
   "execution_count": 5,
   "id": "18a83e4e",
   "metadata": {},
   "outputs": [],
   "source": [
    "prob1 += 2*chairs + 2*tables <= 24, \"Stock of small bricks\"\n",
    "prob1 += 1*chairs + 2*tables <= 18, \"Stock of large bricks\""
   ]
  },
  {
   "cell_type": "markdown",
   "id": "d77cf20e",
   "metadata": {},
   "source": [
    "This completes the model"
   ]
  },
  {
   "cell_type": "code",
   "execution_count": 6,
   "id": "4ef06f61",
   "metadata": {},
   "outputs": [],
   "source": [
    "prob1.writeLP(\"optart1.lp\");"
   ]
  },
  {
   "cell_type": "code",
   "execution_count": 7,
   "id": "92066229",
   "metadata": {},
   "outputs": [
    {
     "name": "stdout",
     "output_type": "stream",
     "text": [
      "\\* OptArt1 *\\\n",
      "Maximize\n",
      "Earnings: 8 chairs + 11 tables\n",
      "Subject To\n",
      "Stock_of_large_bricks: chairs + 2 tables <= 18\n",
      "Stock_of_small_bricks: 2 chairs + 2 tables <= 24\n",
      "Bounds\n",
      " 0 <= chairs\n",
      " 0 <= tables\n",
      "Generals\n",
      "chairs\n",
      "tables\n",
      "End\n"
     ]
    }
   ],
   "source": [
    "!type optart1.lp"
   ]
  },
  {
   "cell_type": "markdown",
   "id": "7dd6b469",
   "metadata": {},
   "source": [
    "## Solving"
   ]
  },
  {
   "cell_type": "code",
   "execution_count": 8,
   "id": "5fe36f83",
   "metadata": {},
   "outputs": [
    {
     "data": {
      "text/plain": [
       "'Optimal'"
      ]
     },
     "execution_count": 8,
     "metadata": {},
     "output_type": "execute_result"
    }
   ],
   "source": [
    "stat = prob1.solve()\n",
    "pulp.LpStatus[stat]"
   ]
  },
  {
   "cell_type": "code",
   "execution_count": 9,
   "id": "458011a4",
   "metadata": {},
   "outputs": [
    {
     "name": "stdout",
     "output_type": "stream",
     "text": [
      "chairs=6.0\n",
      "tables=6.0\n"
     ]
    }
   ],
   "source": [
    "for v in prob1.variables() : \n",
    "    print( f\"{v.name}={v.varValue}\" )"
   ]
  },
  {
   "cell_type": "code",
   "execution_count": 10,
   "id": "f98c29ec",
   "metadata": {},
   "outputs": [
    {
     "data": {
      "text/plain": [
       "114.0"
      ]
     },
     "execution_count": 10,
     "metadata": {},
     "output_type": "execute_result"
    }
   ],
   "source": [
    "pulp.value(prob1.objective)"
   ]
  },
  {
   "cell_type": "markdown",
   "id": "f481cd1c",
   "metadata": {},
   "source": [
    "This is the same result as in the book."
   ]
  },
  {
   "cell_type": "markdown",
   "id": "68408a73",
   "metadata": {},
   "source": [
    "## Small change\n",
    "We follow the book: Lars notices he made a mistake.\n",
    "\n",
    " - Lars has a stock of 25 (not 24) small bricks and 19 (not 18) large bricks.\n"
   ]
  },
  {
   "cell_type": "code",
   "execution_count": 11,
   "id": "ad0dee54",
   "metadata": {},
   "outputs": [
    {
     "name": "stdout",
     "output_type": "stream",
     "text": [
      "\\* OptArt2 *\\\n",
      "Maximize\n",
      "Earnings: 8 chairs + 11 tables\n",
      "Subject To\n",
      "Stock_of_large_bricks: chairs + 2 tables <= 19\n",
      "Stock_of_small_bricks: 2 chairs + 2 tables <= 25\n",
      "Bounds\n",
      " 0 <= chairs\n",
      " 0 <= tables\n",
      "Generals\n",
      "chairs\n",
      "tables\n",
      "End\n"
     ]
    }
   ],
   "source": [
    "prob2 = pulp.LpProblem(\"OptArt2\",pulp.LpMaximize)\n",
    "prob2 += 8*chairs + 11*tables, \"Earnings\"\n",
    "prob2 += 2*chairs + 2*tables <= 25, \"Stock of small bricks\"\n",
    "prob2 += 1*chairs + 2*tables <= 19, \"Stock of large bricks\"\n",
    "prob2.writeLP(\"optart2.lp\")\n",
    "!type optart2.lp"
   ]
  },
  {
   "cell_type": "code",
   "execution_count": 12,
   "id": "f6c57508",
   "metadata": {},
   "outputs": [
    {
     "data": {
      "text/plain": [
       "'Optimal'"
      ]
     },
     "execution_count": 12,
     "metadata": {},
     "output_type": "execute_result"
    }
   ],
   "source": [
    "stat = prob2.solve()\n",
    "pulp.LpStatus[stat]"
   ]
  },
  {
   "cell_type": "code",
   "execution_count": 13,
   "id": "54cd62fb",
   "metadata": {},
   "outputs": [
    {
     "name": "stdout",
     "output_type": "stream",
     "text": [
      "chairs=5.0\n",
      "tables=7.0\n"
     ]
    }
   ],
   "source": [
    "for v in prob2.variables() : \n",
    "    print( f\"{v.name}={v.varValue}\" )"
   ]
  },
  {
   "cell_type": "code",
   "execution_count": 14,
   "id": "97c30599",
   "metadata": {},
   "outputs": [
    {
     "data": {
      "text/plain": [
       "117.0"
      ]
     },
     "execution_count": 14,
     "metadata": {},
     "output_type": "execute_result"
    }
   ],
   "source": [
    "pulp.value(prob2.objective)"
   ]
  },
  {
   "cell_type": "markdown",
   "id": "9028637d",
   "metadata": {},
   "source": [
    "This is the graphical representation of the problem with the solution in red.\n",
    "\n",
    "![Graph](graph.png)"
   ]
  },
  {
   "cell_type": "markdown",
   "id": "049fe66f",
   "metadata": {},
   "source": [
    "(end)"
   ]
  }
 ],
 "metadata": {
  "kernelspec": {
   "display_name": "Python 3 (ipykernel)",
   "language": "python",
   "name": "python3"
  },
  "language_info": {
   "codemirror_mode": {
    "name": "ipython",
    "version": 3
   },
   "file_extension": ".py",
   "mimetype": "text/x-python",
   "name": "python",
   "nbconvert_exporter": "python",
   "pygments_lexer": "ipython3",
   "version": "3.9.5"
  }
 },
 "nbformat": 4,
 "nbformat_minor": 5
}
